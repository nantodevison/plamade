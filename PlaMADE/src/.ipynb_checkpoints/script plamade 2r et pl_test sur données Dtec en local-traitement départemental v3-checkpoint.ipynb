{
 "cells": [
  {
   "cell_type": "markdown",
   "metadata": {},
   "source": [
    "### Script Plamade : calcul des PL cat 2 et cat 3 et calcul des 2R cat 4a et cat 4b"
   ]
  },
  {
   "cell_type": "markdown",
   "metadata": {},
   "source": [
    "! Connexion à la base : modifier le nom de la base (database), l'hôte qui est l'adresse du serveur (host), le port, le profil d'utilisateur (user) et le mot de passe associé (password)."
   ]
  },
  {
   "cell_type": "code",
   "execution_count": 1,
   "metadata": {},
   "outputs": [
    {
     "name": "stdout",
     "output_type": "stream",
     "text": [
      "Connectée\n"
     ]
    }
   ],
   "source": [
    "import psycopg2 as pg\n",
    "import pandas as pd\n",
    "try :\n",
    "    dbcon = pg.connect(database=\"plamade\", host=\"localhost\", port=\"5432\" ,user=\"postgres\", password=\"Hazel\")\n",
    "    print(\"Connectée\")\n",
    "except psycopg2.DatabaseError as error :\n",
    "    print(error)\n",
    "    dbcon.close()\n",
    "    \n",
    "cur=dbcon.cursor()"
   ]
  },
  {
   "cell_type": "markdown",
   "metadata": {},
   "source": [
    "! Variables des ratios cat2, cat3 et cat4a cat4b : à vérifier"
   ]
  },
  {
   "cell_type": "code",
   "execution_count": 2,
   "metadata": {},
   "outputs": [],
   "source": [
    "## variables ratio (à vérifier si pas de changement)\n",
    "\n",
    "## ratios PL hors Paris (tous dept sauf 75) en fonction de la catégorie d'infrastructure\n",
    "cat2autohp = 31.0\n",
    "cat2rurahp = 43.0\n",
    "cat2urbahp = 57.5\n",
    "cat3autohp = 69.0\n",
    "cat3rurahp = 57.0\n",
    "cat3urbahp = 42.5\n",
    "\n",
    "## ratios PL dans Paris (dept 75) en fonction de la catégorie d'infrastructure\n",
    "cat2autodp = 31.6\n",
    "cat2ruradp = 36.8\n",
    "cat2urbadp = 31.9\n",
    "cat3autodp = 68.4\n",
    "cat3ruradp = 63.2\n",
    "cat3urbadp = 68.1\n",
    "\n",
    "## ratios 2R pour VL + PL en fonction de la catégorie d'infrastructure\n",
    "cat4aauto = 0.0\n",
    "cat4arura = 0.4\n",
    "cat4aurba = 1.1\n",
    "cat4bauto = 1.6\n",
    "cat4brura = 2.7\n",
    "cat4burba = 2.4\n"
   ]
  },
  {
   "cell_type": "markdown",
   "metadata": {},
   "source": [
    "Afin de coller au format du Géostandard, les pourcentages fournis par les tableaux de catégories ont été arrondis à un chiffre après la virgule. "
   ]
  },
  {
   "cell_type": "markdown",
   "metadata": {},
   "source": [
    "! Variables à modifier : schema pour l'emplacement des tables dans la base de donénes, dept pour le niméro de département dans le nom des tables."
   ]
  },
  {
   "cell_type": "code",
   "execution_count": 3,
   "metadata": {},
   "outputs": [],
   "source": [
    "## variable schéma contenant les tables\n",
    "schema = 'echeance4'"
   ]
  },
  {
   "cell_type": "markdown",
   "metadata": {},
   "source": [
    "%%time\n",
    "## optimisation des tables nationales trafic, troncon_l, route\n",
    "try :\n",
    "    req_sql = \"CREATE INDEX traficcodedept ON {}.\\\"N_ROUTIER_TRAFIC\\\" USING btree(\\\"CODEDEPT\\\");\\\n",
    "    CREATE INDEX traficidtroncon ON {}.\\\"N_ROUTIER_TRAFIC\\\" USING btree(\\\"IDTRONCON\\\");\\\n",
    "    CREATE INDEX tronconidroute ON {}.\\\"N_ROUTIER_TRONCON_L\\\" USING btree(\\\"IDROUTE\\\");\\\n",
    "    CREATE INDEX routeidroute ON {}.\\\"N_ROUTIER_ROUTE\\\" USING btree(\\\"IDROUTE\\\");\".format(schema,schema,schema,schema)\n",
    "    print(req_sql)\n",
    "    cur.execute(req_sql)\n",
    "    print(\"---ok \")\n",
    "except psycopg2.DatabaseError as error :\n",
    "    print(error)\n",
    "    cur.close\n",
    "    dbcon.close\n",
    "    print('closed')"
   ]
  },
  {
   "cell_type": "code",
   "execution_count": 4,
   "metadata": {},
   "outputs": [],
   "source": [
    "##variable département (inutile en table nationale)\n",
    "dept = ['069']"
   ]
  },
  {
   "cell_type": "code",
   "execution_count": 5,
   "metadata": {},
   "outputs": [
    {
     "name": "stdout",
     "output_type": "stream",
     "text": [
      "CREATE TABLE echeance4.\"N_ROUTIER_TRAFIC_069\" AS(SELECT * FROM        echeance4.\"N_ROUTIER_TRAFIC\" WHERE \"CODEDEPT\" = '069');        CREATE TABLE echeance4.\"N_ROUTIER_TRONCON_L_069\" AS(SELECT * FROM        echeance4.\"N_ROUTIER_TRONCON_L\" WHERE \"CODEDEPT\" = '069');        CREATE TABLE echeance4.\"N_ROUTIER_ROUTE_069\" AS(SELECT * FROM        echeance4.\"N_ROUTIER_ROUTE\" WHERE \"CODEDEPT\" = '069');\n",
      "---ok \n",
      "Wall time: 650 ms\n"
     ]
    }
   ],
   "source": [
    "%%time\n",
    "## creation de tables départementales \n",
    "try :\n",
    "    for d in dept :\n",
    "        req_sql = \"CREATE TABLE {}.\\\"N_ROUTIER_TRAFIC_{}\\\" AS(SELECT * FROM\\\n",
    "        {}.\\\"N_ROUTIER_TRAFIC\\\" WHERE \\\"CODEDEPT\\\" = '{}');\\\n",
    "        CREATE TABLE {}.\\\"N_ROUTIER_TRONCON_L_{}\\\" AS(SELECT * FROM\\\n",
    "        {}.\\\"N_ROUTIER_TRONCON_L\\\" WHERE \\\"CODEDEPT\\\" = '{}');\\\n",
    "        CREATE TABLE {}.\\\"N_ROUTIER_ROUTE_{}\\\" AS(SELECT * FROM\\\n",
    "        {}.\\\"N_ROUTIER_ROUTE\\\" WHERE \\\"CODEDEPT\\\" = '{}');\".format(schema,d,schema,d,schema,d,schema,d,schema,d,schema,d)\n",
    "        print(req_sql)\n",
    "        cur.execute(req_sql)\n",
    "    print(\"---ok \")\n",
    "except psycopg2.DatabaseError as error :\n",
    "    print(error)\n",
    "    cur.close\n",
    "    dbcon.close\n",
    "    print('closed')"
   ]
  },
  {
   "cell_type": "code",
   "execution_count": 6,
   "metadata": {},
   "outputs": [
    {
     "name": "stdout",
     "output_type": "stream",
     "text": [
      "CREATE INDEX traficcodedept_069 ON echeance4.\"N_ROUTIER_TRAFIC_069\" USING btree(\"CODEDEPT\");    CREATE INDEX traficidtroncon_069 ON echeance4.\"N_ROUTIER_TRAFIC_069\" USING btree(\"IDTRONCON\");    CREATE INDEX tronconidroute_069 ON echeance4.\"N_ROUTIER_TRONCON_L_069\" USING btree(\"IDROUTE\");    CREATE INDEX routeidroute_069 ON echeance4.\"N_ROUTIER_ROUTE_069\" USING btree(\"IDROUTE\");    \n",
      "---ok \n",
      "Wall time: 399 ms\n"
     ]
    }
   ],
   "source": [
    "%%time\n",
    "## optimisation de tables départementales\n",
    "try :\n",
    "    req_sql = \"CREATE INDEX traficcodedept_{} ON {}.\\\"N_ROUTIER_TRAFIC_{}\\\" USING btree(\\\"CODEDEPT\\\");\\\n",
    "    CREATE INDEX traficidtroncon_{} ON {}.\\\"N_ROUTIER_TRAFIC_{}\\\" USING btree(\\\"IDTRONCON\\\");\\\n",
    "    CREATE INDEX tronconidroute_{} ON {}.\\\"N_ROUTIER_TRONCON_L_{}\\\" USING btree(\\\"IDROUTE\\\");\\\n",
    "    CREATE INDEX routeidroute_{} ON {}.\\\"N_ROUTIER_ROUTE_{}\\\" USING btree(\\\"IDROUTE\\\");\\\n",
    "    \".format(d,schema,d,d,schema,d,d,schema,d,d,schema,d)\n",
    "    print(req_sql)\n",
    "    cur.execute(req_sql)\n",
    "    print(\"---ok \")\n",
    "except psycopg2.DatabaseError as error :\n",
    "    print(error)\n",
    "    cur.close\n",
    "    dbcon.close\n",
    "    print('closed')"
   ]
  },
  {
   "cell_type": "code",
   "execution_count": 7,
   "metadata": {},
   "outputs": [
    {
     "name": "stdout",
     "output_type": "stream",
     "text": [
      "UPDATE echeance4.\"N_ROUTIER_TRAFIC_069\" SET \"PCENTMPL\" =         CASE WHEN \"CODEDEPT\" = '075' AND \"N_ROUTIER_TRAFIC_069\".\"IDTRONCON\" IN         (SELECT troncon.\"IDTRONCON\" FROM echeance4.\"N_ROUTIER_TRONCON_L_069\" troncon,        echeance4.\"N_ROUTIER_ROUTE_069\" route, echeance4.\"N_ROUTIER_TRAFIC_069\" trafic        WHERE troncon.\"IDTRONCON\" = trafic.\"IDTRONCON\" AND troncon.\"IDROUTE\" =         route.\"IDROUTE\" AND (\"CATINFRA\" = 'AR' OR \"CATINFRA\" = 'AL')) THEN (\"PCENTPL\"*31.6)/100        WHEN \"CODEDEPT\" = '075' AND \"N_ROUTIER_TRAFIC_069\".\"IDTRONCON\" IN         (SELECT troncon.\"IDTRONCON\" FROM echeance4.\"N_ROUTIER_TRONCON_L_069\" troncon,        echeance4.\"N_ROUTIER_ROUTE_069\" route, echeance4.\"N_ROUTIER_TRAFIC_069\" trafic        WHERE troncon.\"IDTRONCON\" = trafic.\"IDTRONCON\" AND troncon.\"IDROUTE\" =         route.\"IDROUTE\" AND ( \"CATINFRA\" = 'RR' OR \"CATINFRA\" = 'RL')) THEN (\"PCENTPL\"*36.8)/100        WHEN \"CODEDEPT\" = '075' AND \"N_ROUTIER_TRAFIC_069\".\"IDTRONCON\" IN         (SELECT troncon.\"IDTRONCON\" FROM echeance4.\"N_ROUTIER_TRONCON_L_069\" troncon,        echeance4.\"N_ROUTIER_ROUTE_069\" route, echeance4.\"N_ROUTIER_TRAFIC_069\" trafic        WHERE troncon.\"IDTRONCON\" = trafic.\"IDTRONCON\" AND troncon.\"IDROUTE\"         = route.\"IDROUTE\" AND  \"CATINFRA\" = 'VU') THEN (\"PCENTPL\"*31.9)/100        ELSE \"PCENTMPL\"        END;        UPDATE echeance4.\"N_ROUTIER_TRAFIC_069\" SET \"PCENTMPL\" =         CASE WHEN \"CODEDEPT\" != '075' AND \"N_ROUTIER_TRAFIC_069\".\"IDTRONCON\" IN         (SELECT troncon.\"IDTRONCON\" FROM echeance4.\"N_ROUTIER_TRONCON_L_069\" troncon,        echeance4.\"N_ROUTIER_ROUTE_069\" route, echeance4.\"N_ROUTIER_TRAFIC_069\" trafic        WHERE troncon.\"IDTRONCON\" = trafic.\"IDTRONCON\" AND troncon.\"IDROUTE\" =        route.\"IDROUTE\" AND (\"CATINFRA\" = 'AR' OR \"CATINFRA\" = 'AL')) THEN (\"PCENTPL\"*31.0)/100        WHEN \"CODEDEPT\" != '075' AND \"N_ROUTIER_TRAFIC_069\".\"IDTRONCON\" IN         (SELECT troncon.\"IDTRONCON\" FROM echeance4.\"N_ROUTIER_TRONCON_L_069\" troncon,        echeance4.\"N_ROUTIER_ROUTE_069\" route, echeance4.\"N_ROUTIER_TRAFIC_069\" trafic        WHERE troncon.\"IDTRONCON\" = trafic.\"IDTRONCON\" AND troncon.\"IDROUTE\" =        route.\"IDROUTE\" AND  (\"CATINFRA\" = 'RR' OR \"CATINFRA\" = 'RL')) THEN (\"PCENTPL\"*43.0)/100        WHEN \"CODEDEPT\" != '075' AND \"N_ROUTIER_TRAFIC_069\".\"IDTRONCON\" IN         (SELECT troncon.\"IDTRONCON\" FROM echeance4.\"N_ROUTIER_TRONCON_L_069\" troncon,        echeance4.\"N_ROUTIER_ROUTE_069\" route, echeance4.\"N_ROUTIER_TRAFIC_069\" trafic        WHERE troncon.\"IDTRONCON\" = trafic.\"IDTRONCON\" AND troncon.\"IDROUTE\" =        route.\"IDROUTE\" AND  \"CATINFRA\" = 'VU') THEN (\"PCENTPL\"*57.5)/100        ELSE \"PCENTMPL\"        END;\n",
      "---ok \n",
      "Wall time: 47.2 s\n"
     ]
    }
   ],
   "source": [
    "%%time\n",
    "## calcul de PCENTMPL \n",
    "try :\n",
    "    req_sql = \"UPDATE {}.\\\"N_ROUTIER_TRAFIC_{}\\\" SET \\\"PCENTMPL\\\" = \\\n",
    "        CASE WHEN \\\"CODEDEPT\\\" = '075' AND \\\"N_ROUTIER_TRAFIC_{}\\\".\\\"IDTRONCON\\\" IN \\\n",
    "        (SELECT troncon.\\\"IDTRONCON\\\" FROM {}.\\\"N_ROUTIER_TRONCON_L_{}\\\" troncon,\\\n",
    "        {}.\\\"N_ROUTIER_ROUTE_{}\\\" route, {}.\\\"N_ROUTIER_TRAFIC_{}\\\" trafic\\\n",
    "        WHERE troncon.\\\"IDTRONCON\\\" = trafic.\\\"IDTRONCON\\\" AND troncon.\\\"IDROUTE\\\" = \\\n",
    "        route.\\\"IDROUTE\\\" AND (\\\"CATINFRA\\\" = 'AR' OR \\\"CATINFRA\\\" = 'AL')) THEN (\\\"PCENTPL\\\"*{})/100\\\n",
    "        WHEN \\\"CODEDEPT\\\" = '075' AND \\\"N_ROUTIER_TRAFIC_{}\\\".\\\"IDTRONCON\\\" IN \\\n",
    "        (SELECT troncon.\\\"IDTRONCON\\\" FROM {}.\\\"N_ROUTIER_TRONCON_L_{}\\\" troncon,\\\n",
    "        {}.\\\"N_ROUTIER_ROUTE_{}\\\" route, {}.\\\"N_ROUTIER_TRAFIC_{}\\\" trafic\\\n",
    "        WHERE troncon.\\\"IDTRONCON\\\" = trafic.\\\"IDTRONCON\\\" AND troncon.\\\"IDROUTE\\\" = \\\n",
    "        route.\\\"IDROUTE\\\" AND ( \\\"CATINFRA\\\" = 'RR' OR \\\"CATINFRA\\\" = 'RL')) THEN (\\\"PCENTPL\\\"*{})/100\\\n",
    "        WHEN \\\"CODEDEPT\\\" = '075' AND \\\"N_ROUTIER_TRAFIC_{}\\\".\\\"IDTRONCON\\\" IN \\\n",
    "        (SELECT troncon.\\\"IDTRONCON\\\" FROM {}.\\\"N_ROUTIER_TRONCON_L_{}\\\" troncon,\\\n",
    "        {}.\\\"N_ROUTIER_ROUTE_{}\\\" route, {}.\\\"N_ROUTIER_TRAFIC_{}\\\" trafic\\\n",
    "        WHERE troncon.\\\"IDTRONCON\\\" = trafic.\\\"IDTRONCON\\\" AND troncon.\\\"IDROUTE\\\" \\\n",
    "        = route.\\\"IDROUTE\\\" AND  \\\"CATINFRA\\\" = 'VU') THEN (\\\"PCENTPL\\\"*{})/100\\\n",
    "        ELSE \\\"PCENTMPL\\\"\\\n",
    "        END;\\\n",
    "        UPDATE {}.\\\"N_ROUTIER_TRAFIC_{}\\\" SET \\\"PCENTMPL\\\" = \\\n",
    "        CASE WHEN \\\"CODEDEPT\\\" != '075' AND \\\"N_ROUTIER_TRAFIC_{}\\\".\\\"IDTRONCON\\\" IN \\\n",
    "        (SELECT troncon.\\\"IDTRONCON\\\" FROM {}.\\\"N_ROUTIER_TRONCON_L_{}\\\" troncon,\\\n",
    "        {}.\\\"N_ROUTIER_ROUTE_{}\\\" route, {}.\\\"N_ROUTIER_TRAFIC_{}\\\" trafic\\\n",
    "        WHERE troncon.\\\"IDTRONCON\\\" = trafic.\\\"IDTRONCON\\\" AND troncon.\\\"IDROUTE\\\" =\\\n",
    "        route.\\\"IDROUTE\\\" AND (\\\"CATINFRA\\\" = 'AR' OR \\\"CATINFRA\\\" = 'AL')) THEN (\\\"PCENTPL\\\"*{})/100\\\n",
    "        WHEN \\\"CODEDEPT\\\" != '075' AND \\\"N_ROUTIER_TRAFIC_{}\\\".\\\"IDTRONCON\\\" IN \\\n",
    "        (SELECT troncon.\\\"IDTRONCON\\\" FROM {}.\\\"N_ROUTIER_TRONCON_L_{}\\\" troncon,\\\n",
    "        {}.\\\"N_ROUTIER_ROUTE_{}\\\" route, {}.\\\"N_ROUTIER_TRAFIC_{}\\\" trafic\\\n",
    "        WHERE troncon.\\\"IDTRONCON\\\" = trafic.\\\"IDTRONCON\\\" AND troncon.\\\"IDROUTE\\\" =\\\n",
    "        route.\\\"IDROUTE\\\" AND  (\\\"CATINFRA\\\" = 'RR' OR \\\"CATINFRA\\\" = 'RL')) THEN (\\\"PCENTPL\\\"*{})/100\\\n",
    "        WHEN \\\"CODEDEPT\\\" != '075' AND \\\"N_ROUTIER_TRAFIC_{}\\\".\\\"IDTRONCON\\\" IN \\\n",
    "        (SELECT troncon.\\\"IDTRONCON\\\" FROM {}.\\\"N_ROUTIER_TRONCON_L_{}\\\" troncon,\\\n",
    "        {}.\\\"N_ROUTIER_ROUTE_{}\\\" route, {}.\\\"N_ROUTIER_TRAFIC_{}\\\" trafic\\\n",
    "        WHERE troncon.\\\"IDTRONCON\\\" = trafic.\\\"IDTRONCON\\\" AND troncon.\\\"IDROUTE\\\" =\\\n",
    "        route.\\\"IDROUTE\\\" AND  \\\"CATINFRA\\\" = 'VU') THEN (\\\"PCENTPL\\\"*{})/100\\\n",
    "        ELSE \\\"PCENTMPL\\\"\\\n",
    "        END;\".format(schema,d,d,schema,d,schema,d,schema,d,cat2autodp,d,schema,\n",
    "                     d,schema,d,schema,d,cat2ruradp,d,schema,d,schema,d,schema,\n",
    "                     d,cat2urbadp,schema,d,d,schema,d,schema,d,schema,d,cat2autohp,\n",
    "                     d,schema,d,schema,d,schema,d,cat2rurahp,d,schema,d,schema,d,schema,d,cat2urbahp)\n",
    "    print(req_sql)\n",
    "    cur.execute(req_sql)\n",
    "    print(\"---ok \")\n",
    "except psycopg2.DatabaseError as error :\n",
    "    print(error)\n",
    "    cur.close\n",
    "    dbcon.close\n",
    "    print('closed')"
   ]
  },
  {
   "cell_type": "code",
   "execution_count": 8,
   "metadata": {},
   "outputs": [
    {
     "name": "stdout",
     "output_type": "stream",
     "text": [
      "UPDATE echeance4.\"N_ROUTIER_TRAFIC_069\" SET \"PCENTHPL\" =         CASE WHEN \"CODEDEPT\" = '075' AND \"N_ROUTIER_TRAFIC_069\".\"IDTRONCON\" IN         (SELECT troncon.\"IDTRONCON\" FROM echeance4.\"N_ROUTIER_TRONCON_L_069\" troncon,         echeance4.\"N_ROUTIER_ROUTE_069\" route, echeance4.\"N_ROUTIER_TRAFIC_069\" trafic        WHERE troncon.\"IDTRONCON\" = trafic.\"IDTRONCON\" AND troncon.\"IDROUTE\"         = route.\"IDROUTE\" AND (\"CATINFRA\" = 'AR' OR \"CATINFRA\" = 'AL')) THEN (\"PCENTPL\"*68.4)/100        WHEN \"CODEDEPT\" = '075' AND \"N_ROUTIER_TRAFIC_069\".\"IDTRONCON\" IN         (SELECT troncon.\"IDTRONCON\" FROM echeance4.\"N_ROUTIER_TRONCON_L_069\" troncon,         echeance4.\"N_ROUTIER_ROUTE_069\" route, echeance4.\"N_ROUTIER_TRAFIC_069\" trafic        WHERE troncon.\"IDTRONCON\" = trafic.\"IDTRONCON\" AND troncon.\"IDROUTE\"         = route.\"IDROUTE\" AND  (\"CATINFRA\" = 'RR' OR \"CATINFRA\" = 'RL')) THEN (\"PCENTPL\"*63.2)/100        WHEN \"CODEDEPT\" = '075' AND \"N_ROUTIER_TRAFIC_069\".\"IDTRONCON\" IN         (SELECT troncon.\"IDTRONCON\" FROM echeance4.\"N_ROUTIER_TRONCON_L_069\" troncon,         echeance4.\"N_ROUTIER_ROUTE_069\" route, echeance4.\"N_ROUTIER_TRAFIC_069\" trafic        WHERE troncon.\"IDTRONCON\" = trafic.\"IDTRONCON\" AND troncon.\"IDROUTE\"         = route.\"IDROUTE\" AND  \"CATINFRA\" = 'VU') THEN (\"PCENTPL\"*68.1)/100        ELSE \"PCENTHPL\"        END;        UPDATE echeance4.\"N_ROUTIER_TRAFIC_069\" SET \"PCENTHPL\" =         CASE WHEN \"CODEDEPT\" != '075' AND \"N_ROUTIER_TRAFIC_069\".\"IDTRONCON\" IN         (SELECT troncon.\"IDTRONCON\" FROM echeance4.\"N_ROUTIER_TRONCON_L_069\" troncon,         echeance4.\"N_ROUTIER_ROUTE_069\" route, echeance4.\"N_ROUTIER_TRAFIC_069\" trafic        WHERE troncon.\"IDTRONCON\" = trafic.\"IDTRONCON\" AND troncon.\"IDROUTE\"         = route.\"IDROUTE\" AND (\"CATINFRA\" = 'AR' OR \"CATINFRA\" = 'AL')) THEN (\"PCENTPL\"*69.0)/100        WHEN \"CODEDEPT\" != '075' AND \"N_ROUTIER_TRAFIC_069\".\"IDTRONCON\" IN         (SELECT troncon.\"IDTRONCON\" FROM echeance4.\"N_ROUTIER_TRONCON_L_069\" troncon,         echeance4.\"N_ROUTIER_ROUTE_069\" route, echeance4.\"N_ROUTIER_TRAFIC_069\" trafic        WHERE troncon.\"IDTRONCON\" = trafic.\"IDTRONCON\" AND troncon.\"IDROUTE\"         = route.\"IDROUTE\" AND  (\"CATINFRA\" = 'RR' OR \"CATINFRA\" = 'RL')) THEN (\"PCENTPL\"*57.0)/100        WHEN \"CODEDEPT\" != '075' AND \"N_ROUTIER_TRAFIC_069\".\"IDTRONCON\" IN         (SELECT troncon.\"IDTRONCON\" FROM echeance4.\"N_ROUTIER_TRONCON_L_069\" troncon,         echeance4.\"N_ROUTIER_ROUTE_069\" route, echeance4.\"N_ROUTIER_TRAFIC_069\" trafic        WHERE troncon.\"IDTRONCON\" = trafic.\"IDTRONCON\" AND troncon.\"IDROUTE\"         = route.\"IDROUTE\" AND  \"CATINFRA\" = 'VU') THEN (\"PCENTPL\"*42.5)/100        ELSE \"PCENTHPL\"        END;\n",
      "---ok\n",
      "Wall time: 45.7 s\n"
     ]
    }
   ],
   "source": [
    "%%time\n",
    "## calcul de PCENTHPL\n",
    "try :\n",
    "    req_sql = \"UPDATE {}.\\\"N_ROUTIER_TRAFIC_{}\\\" SET \\\"PCENTHPL\\\" = \\\n",
    "        CASE WHEN \\\"CODEDEPT\\\" = '075' AND \\\"N_ROUTIER_TRAFIC_{}\\\".\\\"IDTRONCON\\\" IN \\\n",
    "        (SELECT troncon.\\\"IDTRONCON\\\" FROM {}.\\\"N_ROUTIER_TRONCON_L_{}\\\" troncon, \\\n",
    "        {}.\\\"N_ROUTIER_ROUTE_{}\\\" route, {}.\\\"N_ROUTIER_TRAFIC_{}\\\" trafic\\\n",
    "        WHERE troncon.\\\"IDTRONCON\\\" = trafic.\\\"IDTRONCON\\\" AND troncon.\\\"IDROUTE\\\" \\\n",
    "        = route.\\\"IDROUTE\\\" AND (\\\"CATINFRA\\\" = 'AR' OR \\\"CATINFRA\\\" = 'AL')) THEN (\\\"PCENTPL\\\"*{})/100\\\n",
    "        WHEN \\\"CODEDEPT\\\" = '075' AND \\\"N_ROUTIER_TRAFIC_{}\\\".\\\"IDTRONCON\\\" IN \\\n",
    "        (SELECT troncon.\\\"IDTRONCON\\\" FROM {}.\\\"N_ROUTIER_TRONCON_L_{}\\\" troncon, \\\n",
    "        {}.\\\"N_ROUTIER_ROUTE_{}\\\" route, {}.\\\"N_ROUTIER_TRAFIC_{}\\\" trafic\\\n",
    "        WHERE troncon.\\\"IDTRONCON\\\" = trafic.\\\"IDTRONCON\\\" AND troncon.\\\"IDROUTE\\\" \\\n",
    "        = route.\\\"IDROUTE\\\" AND  (\\\"CATINFRA\\\" = 'RR' OR \\\"CATINFRA\\\" = 'RL')) THEN (\\\"PCENTPL\\\"*{})/100\\\n",
    "        WHEN \\\"CODEDEPT\\\" = '075' AND \\\"N_ROUTIER_TRAFIC_{}\\\".\\\"IDTRONCON\\\" IN \\\n",
    "        (SELECT troncon.\\\"IDTRONCON\\\" FROM {}.\\\"N_ROUTIER_TRONCON_L_{}\\\" troncon, \\\n",
    "        {}.\\\"N_ROUTIER_ROUTE_{}\\\" route, {}.\\\"N_ROUTIER_TRAFIC_{}\\\" trafic\\\n",
    "        WHERE troncon.\\\"IDTRONCON\\\" = trafic.\\\"IDTRONCON\\\" AND troncon.\\\"IDROUTE\\\" \\\n",
    "        = route.\\\"IDROUTE\\\" AND  \\\"CATINFRA\\\" = 'VU') THEN (\\\"PCENTPL\\\"*{})/100\\\n",
    "        ELSE \\\"PCENTHPL\\\"\\\n",
    "        END;\\\n",
    "        UPDATE {}.\\\"N_ROUTIER_TRAFIC_{}\\\" SET \\\"PCENTHPL\\\" = \\\n",
    "        CASE WHEN \\\"CODEDEPT\\\" != '075' AND \\\"N_ROUTIER_TRAFIC_{}\\\".\\\"IDTRONCON\\\" IN \\\n",
    "        (SELECT troncon.\\\"IDTRONCON\\\" FROM {}.\\\"N_ROUTIER_TRONCON_L_{}\\\" troncon, \\\n",
    "        {}.\\\"N_ROUTIER_ROUTE_{}\\\" route, {}.\\\"N_ROUTIER_TRAFIC_{}\\\" trafic\\\n",
    "        WHERE troncon.\\\"IDTRONCON\\\" = trafic.\\\"IDTRONCON\\\" AND troncon.\\\"IDROUTE\\\" \\\n",
    "        = route.\\\"IDROUTE\\\" AND (\\\"CATINFRA\\\" = 'AR' OR \\\"CATINFRA\\\" = 'AL')) THEN (\\\"PCENTPL\\\"*{})/100\\\n",
    "        WHEN \\\"CODEDEPT\\\" != '075' AND \\\"N_ROUTIER_TRAFIC_{}\\\".\\\"IDTRONCON\\\" IN \\\n",
    "        (SELECT troncon.\\\"IDTRONCON\\\" FROM {}.\\\"N_ROUTIER_TRONCON_L_{}\\\" troncon, \\\n",
    "        {}.\\\"N_ROUTIER_ROUTE_{}\\\" route, {}.\\\"N_ROUTIER_TRAFIC_{}\\\" trafic\\\n",
    "        WHERE troncon.\\\"IDTRONCON\\\" = trafic.\\\"IDTRONCON\\\" AND troncon.\\\"IDROUTE\\\" \\\n",
    "        = route.\\\"IDROUTE\\\" AND  (\\\"CATINFRA\\\" = 'RR' OR \\\"CATINFRA\\\" = 'RL')) THEN (\\\"PCENTPL\\\"*{})/100\\\n",
    "        WHEN \\\"CODEDEPT\\\" != '075' AND \\\"N_ROUTIER_TRAFIC_{}\\\".\\\"IDTRONCON\\\" IN \\\n",
    "        (SELECT troncon.\\\"IDTRONCON\\\" FROM {}.\\\"N_ROUTIER_TRONCON_L_{}\\\" troncon, \\\n",
    "        {}.\\\"N_ROUTIER_ROUTE_{}\\\" route, {}.\\\"N_ROUTIER_TRAFIC_{}\\\" trafic\\\n",
    "        WHERE troncon.\\\"IDTRONCON\\\" = trafic.\\\"IDTRONCON\\\" AND troncon.\\\"IDROUTE\\\" \\\n",
    "        = route.\\\"IDROUTE\\\" AND  \\\"CATINFRA\\\" = 'VU') THEN (\\\"PCENTPL\\\"*{})/100\\\n",
    "        ELSE \\\"PCENTHPL\\\"\\\n",
    "        END;\".format(schema,d,d,schema,d,schema,d,schema,d,cat3autodp,d,schema,d,\n",
    "                     schema,d,schema,d,cat3ruradp,d,schema,d,schema,d,schema,d,cat3urbadp,\n",
    "                     schema,d,d,schema,d,schema,d,schema,d,cat3autohp,d,schema,d,schema,d,\n",
    "                     schema,d,cat3rurahp,d,schema,d,schema,d,schema,d,cat3urbahp)\n",
    "    print(req_sql)\n",
    "    cur.execute(req_sql)\n",
    "    print(\"---ok\")\n",
    "except psycopg2.DatabaseError as error :\n",
    "    print(error)\n",
    "    cur.close\n",
    "    dbcon.close\n",
    "    print('closed')"
   ]
  },
  {
   "cell_type": "code",
   "execution_count": 9,
   "metadata": {},
   "outputs": [
    {
     "name": "stdout",
     "output_type": "stream",
     "text": [
      "UPDATE echeance4.\"N_ROUTIER_TRAFIC_069\" SET \"PCENT2R4A\" =         CASE WHEN \"N_ROUTIER_TRAFIC_069\".\"IDTRONCON\" IN         (SELECT troncon.\"IDTRONCON\" FROM echeance4.\"N_ROUTIER_TRONCON_L_069\" troncon,         echeance4.\"N_ROUTIER_ROUTE_069\" route, echeance4.\"N_ROUTIER_TRAFIC_069\" trafic        WHERE troncon.\"IDTRONCON\" = trafic.\"IDTRONCON\" AND troncon.\"IDROUTE\"         = route.\"IDROUTE\" AND (route.\"CATINFRA\" = 'AR' OR \"CATINFRA\" = 'AL')) THEN 0.0        WHEN \"N_ROUTIER_TRAFIC_069\".\"IDTRONCON\" IN         (SELECT troncon.\"IDTRONCON\" FROM echeance4.\"N_ROUTIER_TRONCON_L_069\" troncon,         echeance4.\"N_ROUTIER_ROUTE_069\" route, echeance4.\"N_ROUTIER_TRAFIC_069\" trafic        WHERE troncon.\"IDTRONCON\" = trafic.\"IDTRONCON\" AND troncon.\"IDROUTE\"         = route.\"IDROUTE\" AND  (route.\"CATINFRA\" = 'RR' OR route.\"CATINFRA\" = 'RL')) THEN 0.4        WHEN \"N_ROUTIER_TRAFIC_069\".\"IDTRONCON\" IN         (SELECT troncon.\"IDTRONCON\" FROM echeance4.\"N_ROUTIER_TRONCON_L_069\" troncon,         echeance4.\"N_ROUTIER_ROUTE_069\" route, echeance4.\"N_ROUTIER_TRAFIC_069\" trafic        WHERE troncon.\"IDTRONCON\" = trafic.\"IDTRONCON\" AND troncon.\"IDROUTE\"         = route.\"IDROUTE\" AND  \"CATINFRA\" = 'VU') THEN 1.1        ELSE NULL        END;\n",
      "---ok\n",
      "Wall time: 44.9 s\n"
     ]
    }
   ],
   "source": [
    "%%time\n",
    "## mise à jour du champ ratio PCENT2R4A\n",
    "try :\n",
    "    req_sql = \"UPDATE {}.\\\"N_ROUTIER_TRAFIC_{}\\\" SET \\\"PCENT2R4A\\\" = \\\n",
    "        CASE WHEN \\\"N_ROUTIER_TRAFIC_{}\\\".\\\"IDTRONCON\\\" IN \\\n",
    "        (SELECT troncon.\\\"IDTRONCON\\\" FROM {}.\\\"N_ROUTIER_TRONCON_L_{}\\\" troncon, \\\n",
    "        {}.\\\"N_ROUTIER_ROUTE_{}\\\" route, {}.\\\"N_ROUTIER_TRAFIC_{}\\\" trafic\\\n",
    "        WHERE troncon.\\\"IDTRONCON\\\" = trafic.\\\"IDTRONCON\\\" AND troncon.\\\"IDROUTE\\\" \\\n",
    "        = route.\\\"IDROUTE\\\" AND (route.\\\"CATINFRA\\\" = 'AR' OR \\\"CATINFRA\\\" = 'AL')) THEN {}\\\n",
    "        WHEN \\\"N_ROUTIER_TRAFIC_{}\\\".\\\"IDTRONCON\\\" IN \\\n",
    "        (SELECT troncon.\\\"IDTRONCON\\\" FROM {}.\\\"N_ROUTIER_TRONCON_L_{}\\\" troncon, \\\n",
    "        {}.\\\"N_ROUTIER_ROUTE_{}\\\" route, {}.\\\"N_ROUTIER_TRAFIC_{}\\\" trafic\\\n",
    "        WHERE troncon.\\\"IDTRONCON\\\" = trafic.\\\"IDTRONCON\\\" AND troncon.\\\"IDROUTE\\\" \\\n",
    "        = route.\\\"IDROUTE\\\" AND  (route.\\\"CATINFRA\\\" = 'RR' OR route.\\\"CATINFRA\\\" = 'RL')) THEN {}\\\n",
    "        WHEN \\\"N_ROUTIER_TRAFIC_{}\\\".\\\"IDTRONCON\\\" IN \\\n",
    "        (SELECT troncon.\\\"IDTRONCON\\\" FROM {}.\\\"N_ROUTIER_TRONCON_L_{}\\\" troncon, \\\n",
    "        {}.\\\"N_ROUTIER_ROUTE_{}\\\" route, {}.\\\"N_ROUTIER_TRAFIC_{}\\\" trafic\\\n",
    "        WHERE troncon.\\\"IDTRONCON\\\" = trafic.\\\"IDTRONCON\\\" AND troncon.\\\"IDROUTE\\\" \\\n",
    "        = route.\\\"IDROUTE\\\" AND  \\\"CATINFRA\\\" = 'VU') THEN {}\\\n",
    "        ELSE NULL\\\n",
    "        END;\".format(schema,d,d,schema,d,schema,d,schema,d,cat4aauto,d,schema,d,schema,\n",
    "                     d,schema,d,cat4arura,d,schema,d,schema,d,schema,d,cat4aurba)\n",
    "    print(req_sql)\n",
    "    cur.execute(req_sql)\n",
    "    print(\"---ok\")\n",
    "except psycopg2.DatabaseError as error :\n",
    "    print(error)\n",
    "    cur.close\n",
    "    dbcon.close\n",
    "    print('closed')"
   ]
  },
  {
   "cell_type": "code",
   "execution_count": 10,
   "metadata": {},
   "outputs": [
    {
     "name": "stdout",
     "output_type": "stream",
     "text": [
      "UPDATE echeance4.\"N_ROUTIER_TRAFIC_069\" SET \"PCENT2R4B\" =         CASE WHEN \"N_ROUTIER_TRAFIC_069\".\"IDTRONCON\" IN         (SELECT troncon.\"IDTRONCON\" FROM echeance4.\"N_ROUTIER_TRONCON_L_069\" troncon,         echeance4.\"N_ROUTIER_ROUTE_069\" route, echeance4.\"N_ROUTIER_TRAFIC_069\" trafic        WHERE troncon.\"IDTRONCON\" = trafic.\"IDTRONCON\" AND troncon.\"IDROUTE\"         = route.\"IDROUTE\" AND (\"CATINFRA\" = 'AR' OR \"CATINFRA\" = 'AL')) THEN 1.6        WHEN \"N_ROUTIER_TRAFIC_069\".\"IDTRONCON\" IN         (SELECT troncon.\"IDTRONCON\" FROM echeance4.\"N_ROUTIER_TRONCON_L_069\" troncon,         echeance4.\"N_ROUTIER_ROUTE_069\" route, echeance4.\"N_ROUTIER_TRAFIC_069\" trafic        WHERE troncon.\"IDTRONCON\" = trafic.\"IDTRONCON\" AND troncon.\"IDROUTE\"         = route.\"IDROUTE\" AND  (\"CATINFRA\" = 'RR' OR \"CATINFRA\" = 'RL')) THEN 2.7        WHEN \"N_ROUTIER_TRAFIC_069\".\"IDTRONCON\" IN         (SELECT troncon.\"IDTRONCON\" FROM echeance4.\"N_ROUTIER_TRONCON_L_069\" troncon,         echeance4.\"N_ROUTIER_ROUTE_069\" route, echeance4.\"N_ROUTIER_TRAFIC_069\" trafic        WHERE troncon.\"IDTRONCON\" = trafic.\"IDTRONCON\" AND troncon.\"IDROUTE\"         = route.\"IDROUTE\" AND  \"CATINFRA\" = 'VU') THEN 2.4        ELSE NULL        END;\n",
      "---ok\n",
      "Wall time: 44.8 s\n"
     ]
    }
   ],
   "source": [
    "%%time\n",
    "## mise à jour du champ ratio PCENT2R4B\n",
    "try :\n",
    "    req_sql = \"UPDATE {}.\\\"N_ROUTIER_TRAFIC_{}\\\" SET \\\"PCENT2R4B\\\" = \\\n",
    "        CASE WHEN \\\"N_ROUTIER_TRAFIC_{}\\\".\\\"IDTRONCON\\\" IN \\\n",
    "        (SELECT troncon.\\\"IDTRONCON\\\" FROM {}.\\\"N_ROUTIER_TRONCON_L_{}\\\" troncon, \\\n",
    "        {}.\\\"N_ROUTIER_ROUTE_{}\\\" route, {}.\\\"N_ROUTIER_TRAFIC_{}\\\" trafic\\\n",
    "        WHERE troncon.\\\"IDTRONCON\\\" = trafic.\\\"IDTRONCON\\\" AND troncon.\\\"IDROUTE\\\" \\\n",
    "        = route.\\\"IDROUTE\\\" AND (\\\"CATINFRA\\\" = 'AR' OR \\\"CATINFRA\\\" = 'AL')) THEN {}\\\n",
    "        WHEN \\\"N_ROUTIER_TRAFIC_{}\\\".\\\"IDTRONCON\\\" IN \\\n",
    "        (SELECT troncon.\\\"IDTRONCON\\\" FROM {}.\\\"N_ROUTIER_TRONCON_L_{}\\\" troncon, \\\n",
    "        {}.\\\"N_ROUTIER_ROUTE_{}\\\" route, {}.\\\"N_ROUTIER_TRAFIC_{}\\\" trafic\\\n",
    "        WHERE troncon.\\\"IDTRONCON\\\" = trafic.\\\"IDTRONCON\\\" AND troncon.\\\"IDROUTE\\\" \\\n",
    "        = route.\\\"IDROUTE\\\" AND  (\\\"CATINFRA\\\" = 'RR' OR \\\"CATINFRA\\\" = 'RL')) THEN {}\\\n",
    "        WHEN \\\"N_ROUTIER_TRAFIC_{}\\\".\\\"IDTRONCON\\\" IN \\\n",
    "        (SELECT troncon.\\\"IDTRONCON\\\" FROM {}.\\\"N_ROUTIER_TRONCON_L_{}\\\" troncon, \\\n",
    "        {}.\\\"N_ROUTIER_ROUTE_{}\\\" route, {}.\\\"N_ROUTIER_TRAFIC_{}\\\" trafic\\\n",
    "        WHERE troncon.\\\"IDTRONCON\\\" = trafic.\\\"IDTRONCON\\\" AND troncon.\\\"IDROUTE\\\" \\\n",
    "        = route.\\\"IDROUTE\\\" AND  \\\"CATINFRA\\\" = 'VU') THEN {}\\\n",
    "        ELSE NULL\\\n",
    "        END;\".format(schema,d,d,schema,d,schema,d,schema,d,cat4bauto,d,schema,d,schema,d,schema,\n",
    "                     d,cat4brura,d,schema,d,schema,d,schema,d,cat4burba)\n",
    "    print(req_sql)\n",
    "    cur.execute(req_sql)\n",
    "    print(\"---ok\")\n",
    "except psycopg2.DatabaseError as error :\n",
    "    print(error)\n",
    "    cur.close\n",
    "    dbcon.close\n",
    "    print('closed')"
   ]
  },
  {
   "cell_type": "code",
   "execution_count": 11,
   "metadata": {},
   "outputs": [
    {
     "name": "stdout",
     "output_type": "stream",
     "text": [
      "UPDATE echeance4.\"N_ROUTIER_TRAFIC_069\" SET \"PCENT2R\" =         \"PCENT2R4B\" + \"PCENT2R4A\"; \n",
      "---ok\n",
      "Wall time: 562 ms\n"
     ]
    }
   ],
   "source": [
    "%%time\n",
    "## mise à jour du champ ratio PCENT2R\n",
    "try :\n",
    "    req_sql = \"UPDATE {}.\\\"N_ROUTIER_TRAFIC_{}\\\" SET \\\"PCENT2R\\\" = \\\n",
    "        \\\"PCENT2R4B\\\" + \\\"PCENT2R4A\\\"; \".format(schema,d)\n",
    "    print(req_sql)\n",
    "    cur.execute(req_sql)\n",
    "    print(\"---ok\")\n",
    "except psycopg2.DatabaseError as error :\n",
    "    print(error)\n",
    "    cur.close\n",
    "    dbcon.close\n",
    "    print('closed')"
   ]
  },
  {
   "cell_type": "code",
   "execution_count": 12,
   "metadata": {},
   "outputs": [
    {
     "name": "stdout",
     "output_type": "stream",
     "text": [
      "UPDATE echeance4.\"N_ROUTIER_TRAFIC_069\" SET \"TMJA2RT\" =         round((\"TMJAVLT\" + \"TMJAPLT\")*(\"PCENT2R\"/100)); \n",
      "---ok\n",
      "Wall time: 737 ms\n"
     ]
    }
   ],
   "source": [
    "%%time\n",
    "## implémentation de TMJA2RT = (TMJAVLT+TMJAPLT) * PCENT2R \n",
    "\n",
    "try :\n",
    "    req_sql = \"UPDATE {}.\\\"N_ROUTIER_TRAFIC_{}\\\" SET \\\"TMJA2RT\\\" = \\\n",
    "        round((\\\"TMJAVLT\\\" + \\\"TMJAPLT\\\")*(\\\"PCENT2R\\\"/100)); \".format(schema,d)\n",
    "    print(req_sql)\n",
    "    cur.execute(req_sql)\n",
    "    print(\"---ok\")\n",
    "except psycopg2.DatabaseError as error :\n",
    "    print(error)\n",
    "    cur.close\n",
    "    dbcon.close\n",
    "    print('closed')"
   ]
  },
  {
   "cell_type": "code",
   "execution_count": 13,
   "metadata": {},
   "outputs": [
    {
     "name": "stdout",
     "output_type": "stream",
     "text": [
      "UPDATE echeance4.\"N_ROUTIER_TRAFIC_069\" SET \"TMH2RD\" =         round((\"TMHVLD\" + \"TMHPLD\")*(\"PCENT2R\")/100); \n",
      "---ok\n",
      "Wall time: 683 ms\n"
     ]
    }
   ],
   "source": [
    "%%time\n",
    "## implémentation de TMH2RD =  (TMHVLD+TMHPLD)* PCENT2R\n",
    "\n",
    "try :\n",
    "    req_sql = \"UPDATE {}.\\\"N_ROUTIER_TRAFIC_{}\\\" SET \\\"TMH2RD\\\" = \\\n",
    "        round((\\\"TMHVLD\\\" + \\\"TMHPLD\\\")*(\\\"PCENT2R\\\")/100); \".format(schema,d)\n",
    "    print(req_sql)\n",
    "    cur.execute(req_sql)\n",
    "    print(\"---ok\")\n",
    "except psycopg2.DatabaseError as error :\n",
    "    print(error)\n",
    "    cur.close\n",
    "    dbcon.close\n",
    "    print('closed')"
   ]
  },
  {
   "cell_type": "code",
   "execution_count": 14,
   "metadata": {},
   "outputs": [
    {
     "name": "stdout",
     "output_type": "stream",
     "text": [
      "UPDATE echeance4.\"N_ROUTIER_TRAFIC_069\" SET \"TMH2RN\" =         round((\"TMHVLN\" + \"TMHPLN\")*(\"PCENT2R\")/100); \n",
      "---ok\n",
      "Wall time: 665 ms\n"
     ]
    }
   ],
   "source": [
    "%%time\n",
    "## implémentation de TMH2RN = (TMHVLN+TMHPLN) * PCENT2R\n",
    "try :\n",
    "    req_sql = \"UPDATE {}.\\\"N_ROUTIER_TRAFIC_{}\\\" SET \\\"TMH2RN\\\" = \\\n",
    "        round((\\\"TMHVLN\\\" + \\\"TMHPLN\\\")*(\\\"PCENT2R\\\")/100); \".format(schema,d)\n",
    "    print(req_sql)\n",
    "    cur.execute(req_sql)\n",
    "    print(\"---ok\")\n",
    "except psycopg2.DatabaseError as error :\n",
    "    print(error)\n",
    "    cur.close\n",
    "    dbcon.close\n",
    "    print('closed')"
   ]
  },
  {
   "cell_type": "code",
   "execution_count": 15,
   "metadata": {},
   "outputs": [
    {
     "name": "stdout",
     "output_type": "stream",
     "text": [
      "UPDATE echeance4.\"N_ROUTIER_TRAFIC_069\" SET \"TMH2RS\" =         round((\"TMHVLS\" + \"TMHPLS\")*(\"PCENT2R\")/100); \n",
      "---ok\n",
      "Wall time: 589 ms\n"
     ]
    }
   ],
   "source": [
    "%%time\n",
    "## implémentation de TMH2RS = (TMHVLS+TMHPLS) * PCENT2R\n",
    "\n",
    "try :\n",
    "    req_sql = \"UPDATE {}.\\\"N_ROUTIER_TRAFIC_{}\\\" SET \\\"TMH2RS\\\" = \\\n",
    "        round((\\\"TMHVLS\\\" + \\\"TMHPLS\\\")*(\\\"PCENT2R\\\")/100); \".format(schema,d)\n",
    "    print(req_sql)\n",
    "    cur.execute(req_sql)\n",
    "    print(\"---ok\")\n",
    "except psycopg2.DatabaseError as error :\n",
    "    print(error)\n",
    "    cur.close\n",
    "    dbcon.close\n",
    "    print('closed')"
   ]
  },
  {
   "cell_type": "code",
   "execution_count": 16,
   "metadata": {},
   "outputs": [
    {
     "name": "stdout",
     "output_type": "stream",
     "text": [
      "UPDATE echeance4.\"N_ROUTIER_TRAFIC_069\" SET \"SOURCE2RL\" = '10'\n",
      "---ok\n",
      "Wall time: 599 ms\n"
     ]
    }
   ],
   "source": [
    "%%time\n",
    "## mise à jour du champ SOURCE2R ! dans les données de la DTec : SOURCE2RL\n",
    "try :\n",
    "    req_sql = \"UPDATE {}.\\\"N_ROUTIER_TRAFIC_{}\\\" SET \\\"SOURCE2RL\\\" = '10'\".format(schema,d)\n",
    "    print(req_sql)\n",
    "    cur.execute(req_sql)\n",
    "    print(\"---ok\")\n",
    "except psycopg2.DatabaseError as error :\n",
    "    print(error)\n",
    "    cur.close\n",
    "    dbcon.close\n",
    "    print('closed')"
   ]
  },
  {
   "cell_type": "markdown",
   "metadata": {},
   "source": [
    "! L'étape suivante de forçage des types de champs ne devrait pas être nécessaire dans Plamade "
   ]
  },
  {
   "cell_type": "code",
   "execution_count": 17,
   "metadata": {},
   "outputs": [
    {
     "name": "stdout",
     "output_type": "stream",
     "text": [
      "ALTER TABLE echeance4.\"N_ROUTIER_TRAFIC_069\" ALTER COLUMN \"TMJA2RT\" TYPE smallint;        ALTER TABLE echeance4.\"N_ROUTIER_TRAFIC_069\" ALTER COLUMN \"TMH2RD\" TYPE smallint;        ALTER TABLE echeance4.\"N_ROUTIER_TRAFIC_069\" ALTER COLUMN \"TMH2RS\" TYPE smallint;        ALTER TABLE echeance4.\"N_ROUTIER_TRAFIC_069\" ALTER COLUMN \"TMH2RN\" TYPE smallint;        ALTER TABLE echeance4.\"N_ROUTIER_TRAFIC_069\" ALTER COLUMN \"PCENTMPL\" TYPE numeric(4,1);        ALTER TABLE echeance4.\"N_ROUTIER_TRAFIC_069\" ALTER COLUMN \"PCENTHPL\" TYPE numeric(4,1);        ALTER TABLE echeance4.\"N_ROUTIER_TRAFIC_069\" ALTER COLUMN \"PCENT2R4A\" TYPE numeric(4,1);        ALTER TABLE echeance4.\"N_ROUTIER_TRAFIC_069\" ALTER COLUMN \"PCENT2R4B\" TYPE numeric(4,1);        ALTER TABLE echeance4.\"N_ROUTIER_TRAFIC_069\" ALTER COLUMN \"PCENT2R\" TYPE numeric(4,1);        \n",
      "---ok\n",
      "Wall time: 5.37 s\n"
     ]
    }
   ],
   "source": [
    "%%time\n",
    "## forçage des types de champs\n",
    "try :\n",
    "    req_sql = \"ALTER TABLE {}.\\\"N_ROUTIER_TRAFIC_{}\\\" ALTER COLUMN \\\"TMJA2RT\\\" TYPE smallint;\\\n",
    "        ALTER TABLE {}.\\\"N_ROUTIER_TRAFIC_{}\\\" ALTER COLUMN \\\"TMH2RD\\\" TYPE smallint;\\\n",
    "        ALTER TABLE {}.\\\"N_ROUTIER_TRAFIC_{}\\\" ALTER COLUMN \\\"TMH2RS\\\" TYPE smallint;\\\n",
    "        ALTER TABLE {}.\\\"N_ROUTIER_TRAFIC_{}\\\" ALTER COLUMN \\\"TMH2RN\\\" TYPE smallint;\\\n",
    "        ALTER TABLE {}.\\\"N_ROUTIER_TRAFIC_{}\\\" ALTER COLUMN \\\"PCENTMPL\\\" TYPE numeric(4,1);\\\n",
    "        ALTER TABLE {}.\\\"N_ROUTIER_TRAFIC_{}\\\" ALTER COLUMN \\\"PCENTHPL\\\" TYPE numeric(4,1);\\\n",
    "        ALTER TABLE {}.\\\"N_ROUTIER_TRAFIC_{}\\\" ALTER COLUMN \\\"PCENT2R4A\\\" TYPE numeric(4,1);\\\n",
    "        ALTER TABLE {}.\\\"N_ROUTIER_TRAFIC_{}\\\" ALTER COLUMN \\\"PCENT2R4B\\\" TYPE numeric(4,1);\\\n",
    "        ALTER TABLE {}.\\\"N_ROUTIER_TRAFIC_{}\\\" ALTER COLUMN \\\"PCENT2R\\\" TYPE numeric(4,1);\\\n",
    "        \".format(schema,d,schema,d,schema,d,schema,d,schema,d,schema,d,schema,d,schema,d,schema,d,schema,d,schema,d,schema,d)\n",
    "    print(req_sql)\n",
    "    cur.execute(req_sql)\n",
    "    print(\"---ok\")\n",
    "except psycopg2.DatabaseError as error :\n",
    "    print(error)\n",
    "    cur.close\n",
    "    dbcon.close\n",
    "    print('closed')"
   ]
  },
  {
   "cell_type": "code",
   "execution_count": 18,
   "metadata": {},
   "outputs": [
    {
     "name": "stdout",
     "output_type": "stream",
     "text": [
      "---ok\n"
     ]
    }
   ],
   "source": [
    "## Commit des modifications et fermeture du cursor \n",
    "## Le commit transpose toutes les étapes précédentes dans la base : à n'éxécuter que si toutes les étapes\n",
    "## précédentes se sont déroulées complétement et sans erreur.\n",
    "try : \n",
    "    cur.close()\n",
    "    dbcon.commit()\n",
    "    print('---ok')\n",
    "except psycopg2.DatabaseError as error :\n",
    "    print(error)\n",
    "    cur.close\n",
    "    dbcon.close()"
   ]
  },
  {
   "cell_type": "code",
   "execution_count": 19,
   "metadata": {},
   "outputs": [
    {
     "name": "stdout",
     "output_type": "stream",
     "text": [
      "Bonne nuit!\n"
     ]
    }
   ],
   "source": [
    "## Fermeture de la connexion à la base\n",
    "try :\n",
    "    dbcon.close()\n",
    "    print(\"Bonne nuit!\")\n",
    "except psycopg2.DatabaseError as error :\n",
    "    print(error)\n",
    "    dbcon.close()"
   ]
  },
  {
   "cell_type": "code",
   "execution_count": null,
   "metadata": {},
   "outputs": [],
   "source": []
  },
  {
   "cell_type": "code",
   "execution_count": null,
   "metadata": {},
   "outputs": [],
   "source": []
  }
 ],
 "metadata": {
  "kernelspec": {
   "display_name": "Python 3",
   "language": "python",
   "name": "python3"
  },
  "language_info": {
   "codemirror_mode": {
    "name": "ipython",
    "version": 3
   },
   "file_extension": ".py",
   "mimetype": "text/x-python",
   "name": "python",
   "nbconvert_exporter": "python",
   "pygments_lexer": "ipython3",
   "version": "3.7.6"
  },
  "widgets": {
   "application/vnd.jupyter.widget-state+json": {
    "state": {},
    "version_major": 2,
    "version_minor": 0
   }
  }
 },
 "nbformat": 4,
 "nbformat_minor": 4
}
